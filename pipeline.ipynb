{
 "cells": [
  {
   "cell_type": "code",
   "execution_count": 1,
   "metadata": {},
   "outputs": [
    {
     "name": "stdout",
     "output_type": "stream",
     "text": [
      "Hello World\n"
     ]
    }
   ],
   "source": [
    "print(\"Hello World\")"
   ]
  },
  {
   "cell_type": "code",
   "execution_count": 2,
   "metadata": {},
   "outputs": [
    {
     "name": "stdout",
     "output_type": "stream",
     "text": [
      "Note: you may need to restart the kernel to use updated packages.Collecting yfinance\n",
      "  Using cached yfinance-0.2.37-py2.py3-none-any.whl.metadata (11 kB)\n",
      "Requirement already satisfied: pandas>=1.3.0 in c:\\users\\tanish nagrani\\appdata\\local\\packages\\pythonsoftwarefoundation.python.3.11_qbz5n2kfra8p0\\localcache\\local-packages\\python311\\site-packages (from yfinance) (2.0.2)\n",
      "Requirement already satisfied: numpy>=1.16.5 in c:\\users\\tanish nagrani\\appdata\\local\\packages\\pythonsoftwarefoundation.python.3.11_qbz5n2kfra8p0\\localcache\\local-packages\\python311\\site-packages (from yfinance) (1.23.5)\n",
      "Requirement already satisfied: requests>=2.31 in c:\\users\\tanish nagrani\\appdata\\local\\packages\\pythonsoftwarefoundation.python.3.11_qbz5n2kfra8p0\\localcache\\local-packages\\python311\\site-packages (from yfinance) (2.31.0)\n",
      "Collecting multitasking>=0.0.7 (from yfinance)\n",
      "  Using cached multitasking-0.0.11-py3-none-any.whl.metadata (5.5 kB)\n",
      "Collecting lxml>=4.9.1 (from yfinance)\n",
      "  Using cached lxml-5.1.0-cp311-cp311-win_amd64.whl.metadata (3.6 kB)\n",
      "Collecting appdirs>=1.4.4 (from yfinance)\n",
      "  Using cached appdirs-1.4.4-py2.py3-none-any.whl.metadata (9.0 kB)\n",
      "Requirement already satisfied: pytz>=2022.5 in c:\\users\\tanish nagrani\\appdata\\local\\packages\\pythonsoftwarefoundation.python.3.11_qbz5n2kfra8p0\\localcache\\local-packages\\python311\\site-packages (from yfinance) (2023.3)\n",
      "Collecting frozendict>=2.3.4 (from yfinance)\n",
      "  Using cached frozendict-2.4.0-py3-none-any.whl\n",
      "Collecting peewee>=3.16.2 (from yfinance)\n",
      "  Using cached peewee-3.17.1-py3-none-any.whl\n",
      "Requirement already satisfied: beautifulsoup4>=4.11.1 in c:\\users\\tanish nagrani\\appdata\\local\\packages\\pythonsoftwarefoundation.python.3.11_qbz5n2kfra8p0\\localcache\\local-packages\\python311\\site-packages (from yfinance) (4.12.2)\n",
      "Collecting html5lib>=1.1 (from yfinance)\n",
      "  Using cached html5lib-1.1-py2.py3-none-any.whl.metadata (16 kB)\n",
      "Requirement already satisfied: soupsieve>1.2 in c:\\users\\tanish nagrani\\appdata\\local\\packages\\pythonsoftwarefoundation.python.3.11_qbz5n2kfra8p0\\localcache\\local-packages\\python311\\site-packages (from beautifulsoup4>=4.11.1->yfinance) (2.4.1)\n",
      "Requirement already satisfied: six>=1.9 in c:\\users\\tanish nagrani\\appdata\\local\\packages\\pythonsoftwarefoundation.python.3.11_qbz5n2kfra8p0\\localcache\\local-packages\\python311\\site-packages (from html5lib>=1.1->yfinance) (1.16.0)\n",
      "Requirement already satisfied: webencodings in c:\\users\\tanish nagrani\\appdata\\local\\packages\\pythonsoftwarefoundation.python.3.11_qbz5n2kfra8p0\\localcache\\local-packages\\python311\\site-packages (from html5lib>=1.1->yfinance) (0.5.1)\n",
      "Requirement already satisfied: python-dateutil>=2.8.2 in c:\\users\\tanish nagrani\\appdata\\local\\packages\\pythonsoftwarefoundation.python.3.11_qbz5n2kfra8p0\\localcache\\local-packages\\python311\\site-packages (from pandas>=1.3.0->yfinance) (2.8.2)\n",
      "Requirement already satisfied: tzdata>=2022.1 in c:\\users\\tanish nagrani\\appdata\\local\\packages\\pythonsoftwarefoundation.python.3.11_qbz5n2kfra8p0\\localcache\\local-packages\\python311\\site-packages (from pandas>=1.3.0->yfinance) (2023.3)\n",
      "Requirement already satisfied: charset-normalizer<4,>=2 in c:\\users\\tanish nagrani\\appdata\\local\\packages\\pythonsoftwarefoundation.python.3.11_qbz5n2kfra8p0\\localcache\\local-packages\\python311\\site-packages (from requests>=2.31->yfinance) (3.1.0)\n",
      "Requirement already satisfied: idna<4,>=2.5 in c:\\users\\tanish nagrani\\appdata\\local\\packages\\pythonsoftwarefoundation.python.3.11_qbz5n2kfra8p0\\localcache\\local-packages\\python311\\site-packages (from requests>=2.31->yfinance) (3.4)\n",
      "Requirement already satisfied: urllib3<3,>=1.21.1 in c:\\users\\tanish nagrani\\appdata\\local\\packages\\pythonsoftwarefoundation.python.3.11_qbz5n2kfra8p0\\localcache\\local-packages\\python311\\site-packages (from requests>=2.31->yfinance) (1.26.16)\n",
      "Requirement already satisfied: certifi>=2017.4.17 in c:\\users\\tanish nagrani\\appdata\\local\\packages\\pythonsoftwarefoundation.python.3.11_qbz5n2kfra8p0\\localcache\\local-packages\\python311\\site-packages (from requests>=2.31->yfinance) (2023.5.7)\n",
      "Using cached yfinance-0.2.37-py2.py3-none-any.whl (72 kB)\n",
      "Using cached appdirs-1.4.4-py2.py3-none-any.whl (9.6 kB)\n",
      "Using cached html5lib-1.1-py2.py3-none-any.whl (112 kB)\n",
      "Using cached lxml-5.1.0-cp311-cp311-win_amd64.whl (3.9 MB)\n",
      "Using cached multitasking-0.0.11-py3-none-any.whl (8.5 kB)\n",
      "Installing collected packages: peewee, multitasking, appdirs, lxml, html5lib, frozendict, yfinance\n",
      "Successfully installed appdirs-1.4.4 frozendict-2.4.0 html5lib-1.1 lxml-5.1.0 multitasking-0.0.11 peewee-3.17.1 yfinance-0.2.37\n",
      "\n"
     ]
    },
    {
     "name": "stderr",
     "output_type": "stream",
     "text": [
      "\n",
      "[notice] A new release of pip is available: 23.3.1 -> 24.0\n",
      "[notice] To update, run: C:\\Users\\Tanish Nagrani\\AppData\\Local\\Microsoft\\WindowsApps\\PythonSoftwareFoundation.Python.3.11_qbz5n2kfra8p0\\python.exe -m pip install --upgrade pip\n"
     ]
    }
   ],
   "source": [
    "pip install yfinance"
   ]
  },
  {
   "cell_type": "code",
   "execution_count": 3,
   "metadata": {},
   "outputs": [],
   "source": [
    "import yfinance as yf\n",
    "import pandas as pd\n",
    "import csv\n",
    "import datetime as dt\n",
    "from datetime import datetime # To get the current date and time\n",
    "from datetime import date, timedelta\n",
    "import csv\n",
    "import time\n",
    "import os"
   ]
  },
  {
   "cell_type": "markdown",
   "metadata": {},
   "source": [
    "Load OHLC data using yfinance"
   ]
  },
  {
   "cell_type": "code",
   "execution_count": 22,
   "metadata": {},
   "outputs": [
    {
     "name": "stderr",
     "output_type": "stream",
     "text": [
      "[*********************100%%**********************]  1 of 1 completed"
     ]
    },
    {
     "name": "stdout",
     "output_type": "stream",
     "text": [
      "OHLC data for IBM has been fetched and stored in inputs/IBM_OHLC_data.csv\n"
     ]
    },
    {
     "name": "stderr",
     "output_type": "stream",
     "text": [
      "\n"
     ]
    }
   ],
   "source": [
    "import yfinance as yf\n",
    "\n",
    "def fetch_OHLC_data(symbol, start_date=None, end_date=None, output_file=None):\n",
    "    # Fetch OHLC data using yfinance\n",
    "    if start_date and end_date:\n",
    "        data = yf.download(symbol, start=start_date, end=end_date)\n",
    "    else:\n",
    "        data = yf.download(symbol)\n",
    "\n",
    "    if output_file:\n",
    "        data.to_csv(output_file)\n",
    "\n",
    "    return data\n",
    "\n",
    "if __name__ == \"__main__\":\n",
    "    # Define the symbol\n",
    "    symbol = \"IBM\"  # Change symbol according to your input company\n",
    "    start_date = \"2023-01-01\"\n",
    "    end_date = \"2024-03-26\"\n",
    "    output_file = \"inputs/IBM_OHLC_data.csv\"\n",
    "    fetch_OHLC_data(symbol, start_date, end_date, output_file)\n",
    "    print(f\"OHLC data for {symbol} has been fetched and stored in {output_file}\")\n"
   ]
  },
  {
   "cell_type": "markdown",
   "metadata": {},
   "source": [
    "Data Validation"
   ]
  },
  {
   "cell_type": "code",
   "execution_count": 32,
   "metadata": {},
   "outputs": [
    {
     "name": "stdout",
     "output_type": "stream",
     "text": [
      "Data integrity validation for ALK:\n",
      "Data integrity validation for AMZN:\n",
      "Data integrity validation for IBM:\n",
      "Data integrity validation for NFLX:\n",
      "Data integrity validation for NVDA:\n",
      "Data Validation Successful\n"
     ]
    }
   ],
   "source": [
    "from numpy import int64\n",
    "import pandas as pd\n",
    "import numpy as np\n",
    "from scipy.stats import zscore\n",
    "\n",
    "def validate_data_integrity(df):\n",
    "    # Check for missing values\n",
    "    missing_values = df.isnull().sum()\n",
    "    if missing_values.any():\n",
    "        print(\"Missing values found:\")\n",
    "        print(missing_values)\n",
    "\n",
    "    # Check data types of essential columns\n",
    "    expected_dtypes = {'Open': float, 'High': float, 'Low': float, 'Close': float, 'Volume': int64}\n",
    "    for column, dtype in expected_dtypes.items():\n",
    "        if df[column].dtype != dtype:\n",
    "            print(f\"Data type mismatch for column {column}. Expected: {dtype}, Actual: {df[column].dtype}\")\n",
    "\n",
    "def standardize_data_format(data_file):\n",
    "    # Read the OHLC data from the CSV file\n",
    "    df = pd.read_csv(data_file)\n",
    "\n",
    "    # Ensure that the DataFrame has the required columns: Date, Open, High, Low, Close, Volume\n",
    "    required_columns = ['Date', 'Open', 'High', 'Low', 'Close', 'Volume']\n",
    "    missing_columns = set(required_columns) - set(df.columns)\n",
    "    \n",
    "    if missing_columns:\n",
    "        print(\"Missing columns found. Adding missing columns with NaN values:\")\n",
    "        for column in missing_columns:\n",
    "            df[column] = pd.NA\n",
    "\n",
    "    # Reorder the columns to match the required structure\n",
    "    df = df[required_columns]\n",
    "\n",
    "    # Convert 'Date' column to datetime format\n",
    "    df['Date'] = pd.to_datetime(df['Date'])\n",
    "\n",
    "    # Identify and correct outliers using z-score method\n",
    "    z_scores = np.abs(zscore(df[['Open', 'High', 'Low', 'Close']]))\n",
    "    df = df[(z_scores < 3).all(axis=1)]\n",
    "\n",
    "    return df\n",
    "\n",
    "if __name__ == \"__main__\":\n",
    "    # Load and standardize the OHLC data for each stock\n",
    "    data_files = {\n",
    "        \"ALK\": \"inputs/ALK_OHLC_data.csv\",\n",
    "        \"AMZN\": \"inputs/AMZN_OHLC_data.csv\",\n",
    "        \"IBM\": \"inputs/IBM_OHLC_data.csv\",\n",
    "        \"NFLX\": \"inputs/NFLX_OHLC_data.csv\",\n",
    "        \"NVDA\": \"inputs/NVDA_OHLC_data.csv\"\n",
    "    }\n",
    "\n",
    "    dataframes = {}\n",
    "    for stock, data_file in data_files.items():\n",
    "        dataframes[stock] = standardize_data_format(data_file)\n",
    "\n",
    "    # Validate data integrity for each stock\n",
    "    for stock, df in dataframes.items():\n",
    "        print(f\"Data integrity validation for {stock}:\")\n",
    "        validate_data_integrity(df)\n",
    "\n",
    "    print(\"Data Validation Successful\")"
   ]
  },
  {
   "cell_type": "code",
   "execution_count": null,
   "metadata": {},
   "outputs": [],
   "source": []
  }
 ],
 "metadata": {
  "kernelspec": {
   "display_name": "Python 3",
   "language": "python",
   "name": "python3"
  },
  "language_info": {
   "codemirror_mode": {
    "name": "ipython",
    "version": 3
   },
   "file_extension": ".py",
   "mimetype": "text/x-python",
   "name": "python",
   "nbconvert_exporter": "python",
   "pygments_lexer": "ipython3",
   "version": "3.11.8"
  }
 },
 "nbformat": 4,
 "nbformat_minor": 2
}
